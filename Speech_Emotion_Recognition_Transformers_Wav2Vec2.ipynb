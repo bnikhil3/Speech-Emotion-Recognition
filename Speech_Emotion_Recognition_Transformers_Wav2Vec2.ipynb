{
  "metadata": {
    "kernelspec": {
      "name": "python3",
      "display_name": "Python 3"
    },
    "language_info": {
      "name": "python",
      "version": "3.10.13",
      "mimetype": "text/x-python",
      "codemirror_mode": {
        "name": "ipython",
        "version": 3
      },
      "pygments_lexer": "ipython3",
      "nbconvert_exporter": "python",
      "file_extension": ".py"
    },
    "kaggle": {
      "accelerator": "gpu",
      "dataSources": [
        {
          "sourceId": 639622,
          "sourceType": "datasetVersion",
          "datasetId": 316368
        }
      ],
      "isInternetEnabled": true,
      "language": "python",
      "sourceType": "notebook",
      "isGpuEnabled": true
    },
    "colab": {
      "provenance": [],
      "gpuType": "T4",
      "include_colab_link": true
    },
    "accelerator": "GPU"
  },
  "nbformat_minor": 0,
  "nbformat": 4,
  "cells": [
    {
      "cell_type": "markdown",
      "metadata": {
        "id": "view-in-github",
        "colab_type": "text"
      },
      "source": [
        "<a href=\"https://colab.research.google.com/github/bnikhil3/Speech-Emotion-Recognition/blob/main/Speech_Emotion_Recognition_Transformers_Wav2Vec2.ipynb\" target=\"_parent\"><img src=\"https://colab.research.google.com/assets/colab-badge.svg\" alt=\"Open In Colab\"/></a>"
      ]
    },
    {
      "cell_type": "markdown",
      "source": [
        "## Import Modules"
      ],
      "metadata": {
        "id": "aY3dweXaadpk"
      }
    },
    {
      "cell_type": "code",
      "source": [
        "import pandas as pd\n",
        "import numpy as np\n",
        "import os\n",
        "import seaborn as sns\n",
        "import matplotlib.pyplot as plt\n",
        "import librosa\n",
        "import librosa.display\n",
        "from IPython.display import Audio\n",
        "\n",
        "import torchaudio\n",
        "import torch\n",
        "from torch.utils.data import Dataset, DataLoader\n",
        "from transformers import Wav2Vec2Model, Wav2Vec2Processor, Trainer, TrainingArguments, Wav2Vec2ForSequenceClassification\n",
        "\n",
        "import warnings\n",
        "warnings.filterwarnings('ignore')"
      ],
      "metadata": {
        "execution": {
          "iopub.status.busy": "2024-07-30T15:44:52.026310Z",
          "iopub.execute_input": "2024-07-30T15:44:52.027120Z",
          "iopub.status.idle": "2024-07-30T15:45:12.860917Z",
          "shell.execute_reply.started": "2024-07-30T15:44:52.027085Z",
          "shell.execute_reply": "2024-07-30T15:45:12.860132Z"
        },
        "trusted": true,
        "id": "ryoxxTQtadpm"
      },
      "execution_count": null,
      "outputs": []
    },
    {
      "cell_type": "code",
      "source": [
        "!pip install torch transformers -U"
      ],
      "metadata": {
        "execution": {
          "iopub.status.busy": "2024-07-30T15:45:12.862670Z",
          "iopub.execute_input": "2024-07-30T15:45:12.863527Z",
          "iopub.status.idle": "2024-07-30T15:45:12.867753Z",
          "shell.execute_reply.started": "2024-07-30T15:45:12.863493Z",
          "shell.execute_reply": "2024-07-30T15:45:12.866734Z"
        },
        "trusted": true,
        "id": "4uATUbFladpp"
      },
      "execution_count": null,
      "outputs": []
    },
    {
      "cell_type": "markdown",
      "source": [
        "## Load the Dataset"
      ],
      "metadata": {
        "id": "cDchgkHQadpp"
      }
    },
    {
      "cell_type": "code",
      "source": [
        "paths = []\n",
        "labels = []\n",
        "for dirname, _, filenames in os.walk('/content/drive/MyDrive/TESS Toronto emotional speech set data'):\n",
        "    for filename in filenames:\n",
        "        paths.append(os.path.join(dirname, filename))\n",
        "        label = filename.split('_')[-1]\n",
        "        label = label.split('.')[0]\n",
        "        labels.append(label.lower())\n",
        "    if len(paths) == 2800:\n",
        "        break\n",
        "print('Dataset is Loaded')"
      ],
      "metadata": {
        "execution": {
          "iopub.status.busy": "2024-07-30T15:45:12.869064Z",
          "iopub.execute_input": "2024-07-30T15:45:12.869418Z",
          "iopub.status.idle": "2024-07-30T15:45:13.698236Z",
          "shell.execute_reply.started": "2024-07-30T15:45:12.869369Z",
          "shell.execute_reply": "2024-07-30T15:45:13.697338Z"
        },
        "trusted": true,
        "id": "NaSajE0kadpp"
      },
      "execution_count": null,
      "outputs": []
    },
    {
      "cell_type": "code",
      "source": [
        "from google.colab import drive\n",
        "drive.mount('/content/drive')"
      ],
      "metadata": {
        "id": "NQ7SiN2ZcqBo"
      },
      "execution_count": null,
      "outputs": []
    },
    {
      "cell_type": "code",
      "source": [
        "len(paths)"
      ],
      "metadata": {
        "execution": {
          "iopub.status.busy": "2024-07-30T15:45:13.700507Z",
          "iopub.execute_input": "2024-07-30T15:45:13.700808Z",
          "iopub.status.idle": "2024-07-30T15:45:13.707287Z",
          "shell.execute_reply.started": "2024-07-30T15:45:13.700782Z",
          "shell.execute_reply": "2024-07-30T15:45:13.706291Z"
        },
        "trusted": true,
        "id": "VcPN-PuJadpr"
      },
      "execution_count": null,
      "outputs": []
    },
    {
      "cell_type": "code",
      "source": [
        "paths[:5]"
      ],
      "metadata": {
        "execution": {
          "iopub.status.busy": "2024-07-30T15:45:13.708473Z",
          "iopub.execute_input": "2024-07-30T15:45:13.708728Z",
          "iopub.status.idle": "2024-07-30T15:45:13.717652Z",
          "shell.execute_reply.started": "2024-07-30T15:45:13.708706Z",
          "shell.execute_reply": "2024-07-30T15:45:13.716779Z"
        },
        "trusted": true,
        "id": "BYO-FuRQadpt"
      },
      "execution_count": null,
      "outputs": []
    },
    {
      "cell_type": "code",
      "source": [
        "labels[:5]"
      ],
      "metadata": {
        "execution": {
          "iopub.status.busy": "2024-07-30T15:45:13.718748Z",
          "iopub.execute_input": "2024-07-30T15:45:13.719041Z",
          "iopub.status.idle": "2024-07-30T15:45:13.727571Z",
          "shell.execute_reply.started": "2024-07-30T15:45:13.719018Z",
          "shell.execute_reply": "2024-07-30T15:45:13.726711Z"
        },
        "trusted": true,
        "id": "3XrITmuBadpu"
      },
      "execution_count": null,
      "outputs": []
    },
    {
      "cell_type": "code",
      "source": [
        "## Create a dataframe\n",
        "df = pd.DataFrame()\n",
        "df['audio_paths'] = paths\n",
        "df['labels'] = labels\n",
        "df.head()"
      ],
      "metadata": {
        "execution": {
          "iopub.status.busy": "2024-07-30T15:45:13.728687Z",
          "iopub.execute_input": "2024-07-30T15:45:13.729009Z",
          "iopub.status.idle": "2024-07-30T15:45:13.755856Z",
          "shell.execute_reply.started": "2024-07-30T15:45:13.728978Z",
          "shell.execute_reply": "2024-07-30T15:45:13.755015Z"
        },
        "trusted": true,
        "id": "RAoL1J9Hadpu"
      },
      "execution_count": null,
      "outputs": []
    },
    {
      "cell_type": "code",
      "source": [
        "df['labels'].value_counts()"
      ],
      "metadata": {
        "execution": {
          "iopub.status.busy": "2024-07-30T15:45:13.757008Z",
          "iopub.execute_input": "2024-07-30T15:45:13.757743Z",
          "iopub.status.idle": "2024-07-30T15:45:13.770318Z",
          "shell.execute_reply.started": "2024-07-30T15:45:13.757711Z",
          "shell.execute_reply": "2024-07-30T15:45:13.769441Z"
        },
        "trusted": true,
        "id": "F_79J8xjadpv"
      },
      "execution_count": null,
      "outputs": []
    },
    {
      "cell_type": "markdown",
      "source": [
        "## Exploratory Data Analysis"
      ],
      "metadata": {
        "id": "F5Du7GCbadpv"
      }
    },
    {
      "cell_type": "code",
      "source": [
        "sns.countplot(data=df, x='labels')"
      ],
      "metadata": {
        "execution": {
          "iopub.status.busy": "2024-07-30T15:45:13.771508Z",
          "iopub.execute_input": "2024-07-30T15:45:13.771775Z",
          "iopub.status.idle": "2024-07-30T15:45:14.065947Z",
          "shell.execute_reply.started": "2024-07-30T15:45:13.771753Z",
          "shell.execute_reply": "2024-07-30T15:45:14.065022Z"
        },
        "trusted": true,
        "id": "8-6YWAl7adpw"
      },
      "execution_count": null,
      "outputs": []
    },
    {
      "cell_type": "code",
      "source": [
        "def waveplot(data, sr, emotion):\n",
        "    plt.figure(figsize=(10,4))\n",
        "    plt.title(emotion, size=20)\n",
        "    librosa.display.waveshow(data, sr=sr)\n",
        "    plt.show()\n",
        "\n",
        "def spectogram(data, sr, emotion):\n",
        "    x = librosa.stft(data)\n",
        "    xdb = librosa.amplitude_to_db(abs(x))\n",
        "    plt.figure(figsize=(11,4))\n",
        "    plt.title(emotion, size=20)\n",
        "    librosa.display.specshow(xdb, sr=sr, x_axis='time', y_axis='hz')\n",
        "    plt.colorbar()"
      ],
      "metadata": {
        "execution": {
          "iopub.status.busy": "2024-07-30T15:45:14.069190Z",
          "iopub.execute_input": "2024-07-30T15:45:14.069514Z",
          "iopub.status.idle": "2024-07-30T15:45:14.076302Z",
          "shell.execute_reply.started": "2024-07-30T15:45:14.069488Z",
          "shell.execute_reply": "2024-07-30T15:45:14.075367Z"
        },
        "trusted": true,
        "id": "EdYjNlhbadpw"
      },
      "execution_count": null,
      "outputs": []
    },
    {
      "cell_type": "code",
      "source": [
        "emotion = 'fear'\n",
        "path = np.array(df['audio_paths'][df['labels']==emotion])[0]\n",
        "data, sampling_rate = librosa.load(path)\n",
        "waveplot(data, sampling_rate, emotion)\n",
        "spectogram(data, sampling_rate, emotion)\n",
        "Audio(path)"
      ],
      "metadata": {
        "execution": {
          "iopub.status.busy": "2024-07-30T15:45:14.077332Z",
          "iopub.execute_input": "2024-07-30T15:45:14.077670Z",
          "iopub.status.idle": "2024-07-30T15:45:27.781003Z",
          "shell.execute_reply.started": "2024-07-30T15:45:14.077643Z",
          "shell.execute_reply": "2024-07-30T15:45:27.780165Z"
        },
        "trusted": true,
        "id": "F2i9T41fadpw"
      },
      "execution_count": null,
      "outputs": []
    },
    {
      "cell_type": "code",
      "source": [
        "emotion = 'angry'\n",
        "path = np.array(df['audio_paths'][df['labels']==emotion])[1]\n",
        "data, sampling_rate = librosa.load(path)\n",
        "waveplot(data, sampling_rate, emotion)\n",
        "spectogram(data, sampling_rate, emotion)\n",
        "Audio(path)"
      ],
      "metadata": {
        "execution": {
          "iopub.status.busy": "2024-07-30T15:45:27.782247Z",
          "iopub.execute_input": "2024-07-30T15:45:27.782885Z",
          "iopub.status.idle": "2024-07-30T15:45:28.664703Z",
          "shell.execute_reply.started": "2024-07-30T15:45:27.782857Z",
          "shell.execute_reply": "2024-07-30T15:45:28.663749Z"
        },
        "trusted": true,
        "id": "aPzeUpywadpx"
      },
      "execution_count": null,
      "outputs": []
    },
    {
      "cell_type": "code",
      "source": [
        "emotion = 'disgust'\n",
        "path = np.array(df['audio_paths'][df['labels']==emotion])[0]\n",
        "data, sampling_rate = librosa.load(path)\n",
        "waveplot(data, sampling_rate, emotion)\n",
        "spectogram(data, sampling_rate, emotion)\n",
        "Audio(path)"
      ],
      "metadata": {
        "execution": {
          "iopub.status.busy": "2024-07-30T15:45:28.665759Z",
          "iopub.execute_input": "2024-07-30T15:45:28.666017Z",
          "iopub.status.idle": "2024-07-30T15:45:29.660660Z",
          "shell.execute_reply.started": "2024-07-30T15:45:28.665994Z",
          "shell.execute_reply": "2024-07-30T15:45:29.659781Z"
        },
        "trusted": true,
        "id": "pBSCKNotadpx"
      },
      "execution_count": null,
      "outputs": []
    },
    {
      "cell_type": "code",
      "source": [
        "emotion = 'neutral'\n",
        "path = np.array(df['audio_paths'][df['labels']==emotion])[0]\n",
        "data, sampling_rate = librosa.load(path)\n",
        "waveplot(data, sampling_rate, emotion)\n",
        "spectogram(data, sampling_rate, emotion)\n",
        "Audio(path)"
      ],
      "metadata": {
        "execution": {
          "iopub.status.busy": "2024-07-30T15:45:29.661887Z",
          "iopub.execute_input": "2024-07-30T15:45:29.662234Z",
          "iopub.status.idle": "2024-07-30T15:45:30.558573Z",
          "shell.execute_reply.started": "2024-07-30T15:45:29.662202Z",
          "shell.execute_reply": "2024-07-30T15:45:30.557670Z"
        },
        "trusted": true,
        "id": "O9Ct1fhQadpx"
      },
      "execution_count": null,
      "outputs": []
    },
    {
      "cell_type": "code",
      "source": [
        "emotion = 'sad'\n",
        "path = np.array(df['audio_paths'][df['labels']==emotion])[0]\n",
        "data, sampling_rate = librosa.load(path)\n",
        "waveplot(data, sampling_rate, emotion)\n",
        "spectogram(data, sampling_rate, emotion)\n",
        "Audio(path)"
      ],
      "metadata": {
        "execution": {
          "iopub.status.busy": "2024-07-30T15:45:30.559806Z",
          "iopub.execute_input": "2024-07-30T15:45:30.560082Z",
          "iopub.status.idle": "2024-07-30T15:45:31.384224Z",
          "shell.execute_reply.started": "2024-07-30T15:45:30.560058Z",
          "shell.execute_reply": "2024-07-30T15:45:31.383360Z"
        },
        "trusted": true,
        "id": "8rCrHIOyadpy"
      },
      "execution_count": null,
      "outputs": []
    },
    {
      "cell_type": "code",
      "source": [
        "emotion = 'ps'\n",
        "path = np.array(df['audio_paths'][df['labels']==emotion])[0]\n",
        "data, sampling_rate = librosa.load(path)\n",
        "waveplot(data, sampling_rate, emotion)\n",
        "spectogram(data, sampling_rate, emotion)\n",
        "Audio(path)"
      ],
      "metadata": {
        "execution": {
          "iopub.status.busy": "2024-07-30T15:45:31.385503Z",
          "iopub.execute_input": "2024-07-30T15:45:31.385843Z",
          "iopub.status.idle": "2024-07-30T15:45:32.352006Z",
          "shell.execute_reply.started": "2024-07-30T15:45:31.385811Z",
          "shell.execute_reply": "2024-07-30T15:45:32.351124Z"
        },
        "trusted": true,
        "id": "UkUPzy9Nadpy"
      },
      "execution_count": null,
      "outputs": []
    },
    {
      "cell_type": "code",
      "source": [
        "emotion = 'happy'\n",
        "path = np.array(df['audio_paths'][df['labels']==emotion])[0]\n",
        "data, sampling_rate = librosa.load(path)\n",
        "waveplot(data, sampling_rate, emotion)\n",
        "spectogram(data, sampling_rate, emotion)\n",
        "Audio(path)"
      ],
      "metadata": {
        "execution": {
          "iopub.status.busy": "2024-07-30T15:45:32.353323Z",
          "iopub.execute_input": "2024-07-30T15:45:32.353656Z",
          "iopub.status.idle": "2024-07-30T15:45:33.416261Z",
          "shell.execute_reply.started": "2024-07-30T15:45:32.353630Z",
          "shell.execute_reply": "2024-07-30T15:45:33.415307Z"
        },
        "trusted": true,
        "id": "qj-yHq1yadpy"
      },
      "execution_count": null,
      "outputs": []
    },
    {
      "cell_type": "markdown",
      "source": [
        "## Create Custom Dataset Class"
      ],
      "metadata": {
        "id": "yBXcmyc-adpy"
      }
    },
    {
      "cell_type": "code",
      "source": [
        "# convert labels to integers\n",
        "label_map = {label: idx for idx, label in enumerate(df['labels'].unique())}\n",
        "inverse_label_map = {idx: label for label, idx in label_map.items()}\n",
        "df['labels'] = df['labels'].map(label_map)\n",
        "df.head(2)"
      ],
      "metadata": {
        "execution": {
          "iopub.status.busy": "2024-07-30T15:45:33.417662Z",
          "iopub.execute_input": "2024-07-30T15:45:33.418346Z",
          "iopub.status.idle": "2024-07-30T15:45:33.429869Z",
          "shell.execute_reply.started": "2024-07-30T15:45:33.418317Z",
          "shell.execute_reply": "2024-07-30T15:45:33.428895Z"
        },
        "trusted": true,
        "id": "KY3ENdv1adpy"
      },
      "execution_count": null,
      "outputs": []
    },
    {
      "cell_type": "code",
      "source": [
        "# emotion = 'ps'\n",
        "# path = np.array(df['audio_paths'][df['labels']==2])[0]\n",
        "# data, sampling_rate = librosa.load(path)\n",
        "# len(data)\n",
        "# sampling_rate * 2"
      ],
      "metadata": {
        "execution": {
          "iopub.status.busy": "2024-07-30T15:45:33.431152Z",
          "iopub.execute_input": "2024-07-30T15:45:33.431597Z",
          "iopub.status.idle": "2024-07-30T15:45:33.438819Z",
          "shell.execute_reply.started": "2024-07-30T15:45:33.431565Z",
          "shell.execute_reply": "2024-07-30T15:45:33.437959Z"
        },
        "trusted": true,
        "id": "AQgsyxWKadpz"
      },
      "execution_count": null,
      "outputs": []
    },
    {
      "cell_type": "code",
      "source": [
        "class SpeechEmotionDataset(Dataset):\n",
        "    def __init__(self, df, processor, max_length=32000):\n",
        "        self.df = df\n",
        "        self.processor = processor\n",
        "        self.max_length = max_length\n",
        "\n",
        "    def __len__(self):\n",
        "        return len(self.df)\n",
        "\n",
        "    def __getitem__(self, idx):\n",
        "        audio_path = self.df.iloc[idx]['audio_paths']\n",
        "        label = self.df.iloc[idx]['labels']\n",
        "\n",
        "        # load the audio file\n",
        "        speech, sr = librosa.load(audio_path, sr=16000)\n",
        "\n",
        "        # pad or truncate the speech to the required length\n",
        "        if len(speech) > self.max_length:\n",
        "            speech = speech[:self.max_length]\n",
        "        else:\n",
        "            speech = np.pad(speech, (0, self.max_length - len(speech)), 'constant')\n",
        "\n",
        "        # preprocess the audio file\n",
        "        inputs = self.processor(speech, sampling_rate=16000, return_tensors='pt', padding=True, truncate=True, max_length=self.max_length)\n",
        "\n",
        "        input_values = inputs.input_values.squeeze()\n",
        "        return {'input_values': input_values, 'labels': torch.tensor(label, dtype=torch.long)}"
      ],
      "metadata": {
        "execution": {
          "iopub.status.busy": "2024-07-30T16:00:26.666658Z",
          "iopub.execute_input": "2024-07-30T16:00:26.667026Z",
          "iopub.status.idle": "2024-07-30T16:00:26.676307Z",
          "shell.execute_reply.started": "2024-07-30T16:00:26.666995Z",
          "shell.execute_reply": "2024-07-30T16:00:26.675411Z"
        },
        "trusted": true,
        "id": "5_kEW520adpz"
      },
      "execution_count": null,
      "outputs": []
    },
    {
      "cell_type": "code",
      "source": [
        "# split the data for train and test\n",
        "from sklearn.model_selection import train_test_split\n",
        "train_df, test_df = train_test_split(df, test_size=0.2, random_state=42)"
      ],
      "metadata": {
        "execution": {
          "iopub.status.busy": "2024-07-30T16:00:26.872022Z",
          "iopub.execute_input": "2024-07-30T16:00:26.872410Z",
          "iopub.status.idle": "2024-07-30T16:00:26.879902Z",
          "shell.execute_reply.started": "2024-07-30T16:00:26.872361Z",
          "shell.execute_reply": "2024-07-30T16:00:26.879030Z"
        },
        "trusted": true,
        "id": "npf_QJnnadpz"
      },
      "execution_count": null,
      "outputs": []
    },
    {
      "cell_type": "code",
      "source": [
        "# initialize the processor and model\n",
        "processor = Wav2Vec2Processor.from_pretrained('facebook/wav2vec2-base')\n",
        "model = Wav2Vec2ForSequenceClassification.from_pretrained('facebook/wav2vec2-base', num_labels=7)"
      ],
      "metadata": {
        "execution": {
          "iopub.status.busy": "2024-07-30T16:00:27.249788Z",
          "iopub.execute_input": "2024-07-30T16:00:27.250612Z",
          "iopub.status.idle": "2024-07-30T16:00:28.028538Z",
          "shell.execute_reply.started": "2024-07-30T16:00:27.250582Z",
          "shell.execute_reply": "2024-07-30T16:00:28.027609Z"
        },
        "trusted": true,
        "id": "ot8OpYy9adpz"
      },
      "execution_count": null,
      "outputs": []
    },
    {
      "cell_type": "code",
      "source": [
        "# load the dataset\n",
        "train_dataset = SpeechEmotionDataset(train_df, processor)\n",
        "test_dataset = SpeechEmotionDataset(test_df, processor)"
      ],
      "metadata": {
        "execution": {
          "iopub.status.busy": "2024-07-30T16:00:28.030471Z",
          "iopub.execute_input": "2024-07-30T16:00:28.031176Z",
          "iopub.status.idle": "2024-07-30T16:00:28.035247Z",
          "shell.execute_reply.started": "2024-07-30T16:00:28.031139Z",
          "shell.execute_reply": "2024-07-30T16:00:28.034358Z"
        },
        "trusted": true,
        "id": "qB3jb-M_adp0"
      },
      "execution_count": null,
      "outputs": []
    },
    {
      "cell_type": "code",
      "source": [
        "train_dataset[0]['input_values'].size()"
      ],
      "metadata": {
        "execution": {
          "iopub.status.busy": "2024-07-30T16:00:28.318025Z",
          "iopub.execute_input": "2024-07-30T16:00:28.318631Z",
          "iopub.status.idle": "2024-07-30T16:00:28.332189Z",
          "shell.execute_reply.started": "2024-07-30T16:00:28.318599Z",
          "shell.execute_reply": "2024-07-30T16:00:28.331238Z"
        },
        "trusted": true,
        "id": "VPbRgRBQadp0"
      },
      "execution_count": null,
      "outputs": []
    },
    {
      "cell_type": "markdown",
      "source": [
        "## Set Training Arguments"
      ],
      "metadata": {
        "id": "YGNhS66ladp0"
      }
    },
    {
      "cell_type": "code",
      "source": [
        "training_args = TrainingArguments(\n",
        "    output_dir='./results',\n",
        "    learning_rate=2e-5,\n",
        "    per_device_train_batch_size=16,\n",
        "    per_device_eval_batch_size=16,\n",
        "    num_train_epochs=3,\n",
        "    weight_decay=0.01,\n",
        "    logging_dir='./logs',\n",
        "    logging_steps=10\n",
        ")\n"
      ],
      "metadata": {
        "execution": {
          "iopub.status.busy": "2024-07-30T16:00:34.824827Z",
          "iopub.execute_input": "2024-07-30T16:00:34.825718Z",
          "iopub.status.idle": "2024-07-30T16:00:34.853123Z",
          "shell.execute_reply.started": "2024-07-30T16:00:34.825684Z",
          "shell.execute_reply": "2024-07-30T16:00:34.852355Z"
        },
        "trusted": true,
        "id": "7I9h87JSadp0"
      },
      "execution_count": null,
      "outputs": []
    },
    {
      "cell_type": "code",
      "source": [
        "# create functions for computing metrics\n",
        "from sklearn.metrics import accuracy_score, precision_recall_fscore_support\n",
        "\n",
        "def compute_metrics(pred):\n",
        "    labels = pred.label_ids # original labels\n",
        "    preds = np.argmax(pred.predictions, axis=1) # model predicted labels\n",
        "    accuracy = accuracy_score(labels, preds)\n",
        "    precision, recall, f1, _ = precision_recall_fscore_support(labels, preds, average='weighted')\n",
        "    return {\n",
        "        \"accuracy\": accuracy,\n",
        "        \"precision\": precision,\n",
        "        \"recall\": recall,\n",
        "        \"f1\": f1\n",
        "    }"
      ],
      "metadata": {
        "execution": {
          "iopub.status.busy": "2024-07-30T16:00:35.065513Z",
          "iopub.execute_input": "2024-07-30T16:00:35.066245Z",
          "iopub.status.idle": "2024-07-30T16:00:35.072258Z",
          "shell.execute_reply.started": "2024-07-30T16:00:35.066216Z",
          "shell.execute_reply": "2024-07-30T16:00:35.071272Z"
        },
        "trusted": true,
        "id": "2gjmKgTcadp0"
      },
      "execution_count": null,
      "outputs": []
    },
    {
      "cell_type": "code",
      "source": [
        "# initialize the trainer\n",
        "trainer = Trainer(\n",
        "    model=model,\n",
        "    args=training_args,\n",
        "    train_dataset=train_dataset,\n",
        "    eval_dataset=test_dataset,\n",
        "    compute_metrics=compute_metrics\n",
        ")\n",
        "trainer.train()"
      ],
      "metadata": {
        "execution": {
          "iopub.status.busy": "2024-07-30T16:00:35.755289Z",
          "iopub.execute_input": "2024-07-30T16:00:35.756148Z",
          "iopub.status.idle": "2024-07-30T16:03:54.124289Z",
          "shell.execute_reply.started": "2024-07-30T16:00:35.756116Z",
          "shell.execute_reply": "2024-07-30T16:03:54.122960Z"
        },
        "trusted": true,
        "id": "RdogSpV7adp1"
      },
      "execution_count": null,
      "outputs": []
    },
    {
      "cell_type": "code",
      "source": [
        "results = trainer.evaluate()\n",
        "print(results)"
      ],
      "metadata": {
        "execution": {
          "iopub.status.busy": "2024-07-30T16:04:55.872825Z",
          "iopub.execute_input": "2024-07-30T16:04:55.873599Z",
          "iopub.status.idle": "2024-07-30T16:05:00.925522Z",
          "shell.execute_reply.started": "2024-07-30T16:04:55.873566Z",
          "shell.execute_reply": "2024-07-30T16:05:00.924659Z"
        },
        "trusted": true,
        "id": "j5-xY7oGadp1"
      },
      "execution_count": null,
      "outputs": []
    },
    {
      "cell_type": "markdown",
      "source": [
        "## Test Predictions"
      ],
      "metadata": {
        "id": "2w4RG-Rbadp2"
      }
    },
    {
      "cell_type": "code",
      "source": [
        "import random\n",
        "idx = random.randrange(0, len(test_dataset))\n",
        "print(\"Original Label:\", inverse_label_map[int(test_dataset[idx]['labels'])])\n",
        "input_values = test_dataset[idx]['input_values'].unsqueeze(0).to('cuda')\n",
        "\n",
        "with torch.no_grad():\n",
        "    outputs = model(input_values)\n",
        "logits = outputs.logits\n",
        "\n",
        "predicted_class = logits.argmax(dim=-1).item()\n",
        "print('Predicted Label:', inverse_label_map[predicted_class])"
      ],
      "metadata": {
        "execution": {
          "iopub.status.busy": "2024-07-30T16:06:18.349342Z",
          "iopub.execute_input": "2024-07-30T16:06:18.349739Z",
          "iopub.status.idle": "2024-07-30T16:06:18.379251Z",
          "shell.execute_reply.started": "2024-07-30T16:06:18.349710Z",
          "shell.execute_reply": "2024-07-30T16:06:18.378422Z"
        },
        "trusted": true,
        "id": "LrTv4zWhadp2"
      },
      "execution_count": null,
      "outputs": []
    },
    {
      "cell_type": "code",
      "source": [
        "idx = random.randrange(0, len(test_dataset))\n",
        "print(\"Original Label:\", inverse_label_map[int(test_dataset[idx]['labels'])])\n",
        "input_values = test_dataset[idx]['input_values'].unsqueeze(0).to('cuda')\n",
        "\n",
        "with torch.no_grad():\n",
        "    outputs = model(input_values)\n",
        "logits = outputs.logits\n",
        "\n",
        "predicted_class = logits.argmax(dim=-1).item()\n",
        "print('Predicted Label:', inverse_label_map[predicted_class])"
      ],
      "metadata": {
        "execution": {
          "iopub.status.busy": "2024-07-30T16:06:27.713062Z",
          "iopub.execute_input": "2024-07-30T16:06:27.713759Z",
          "iopub.status.idle": "2024-07-30T16:06:27.743316Z",
          "shell.execute_reply.started": "2024-07-30T16:06:27.713725Z",
          "shell.execute_reply": "2024-07-30T16:06:27.742428Z"
        },
        "trusted": true,
        "id": "YUiX05CTadp2"
      },
      "execution_count": null,
      "outputs": []
    },
    {
      "cell_type": "code",
      "source": [],
      "metadata": {
        "id": "UKGaENxXDd2K"
      },
      "execution_count": null,
      "outputs": []
    },
    {
      "cell_type": "code",
      "source": [],
      "metadata": {
        "id": "3YYNjzHtDd4O"
      },
      "execution_count": null,
      "outputs": []
    },
    {
      "cell_type": "code",
      "source": [],
      "metadata": {
        "id": "-a3nop06Dd7q"
      },
      "execution_count": null,
      "outputs": []
    }
  ]
}